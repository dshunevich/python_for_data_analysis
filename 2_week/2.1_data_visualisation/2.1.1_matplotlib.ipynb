{
  "nbformat": 4,
  "nbformat_minor": 0,
  "metadata": {
    "colab": {
      "name": "matplotlib_1.ipynb",
      "provenance": [],
      "collapsed_sections": []
    },
    "kernelspec": {
      "name": "python3",
      "display_name": "Python 3"
    }
  },
  "cells": [
    {
      "cell_type": "markdown",
      "metadata": {
        "id": "FYfcDj7KdVjY",
        "colab_type": "text"
      },
      "source": [
        ""
      ]
    },
    {
      "cell_type": "markdown",
      "metadata": {
        "id": "wnulj9KgddiS",
        "colab_type": "text"
      },
      "source": [
        "documentation matplotlib.pyplot - https://matplotlib.org/api/_as_gen/matplotlib.pyplot.html#module-matplotlib.pyplot"
      ]
    },
    {
      "cell_type": "code",
      "metadata": {
        "id": "xP_HcojMdUwf",
        "colab_type": "code",
        "colab": {}
      },
      "source": [
        "import pandas as pd\n",
        "from numpy.random import exponential"
      ],
      "execution_count": null,
      "outputs": []
    },
    {
      "cell_type": "code",
      "metadata": {
        "id": "Op0FZPyt02vH",
        "colab_type": "code",
        "colab": {}
      },
      "source": [
        "df = pd.DataFrame({'x': range(20), 'y': exponential(10, 20)})"
      ],
      "execution_count": 4,
      "outputs": []
    },
    {
      "cell_type": "code",
      "metadata": {
        "id": "m1RKT_3G1dYf",
        "colab_type": "code",
        "colab": {}
      },
      "source": [
        "%matplotlib inline"
      ],
      "execution_count": 5,
      "outputs": []
    },
    {
      "cell_type": "code",
      "metadata": {
        "id": "_MT6OoHJ1jXX",
        "colab_type": "code",
        "colab": {
          "base_uri": "https://localhost:8080/",
          "height": 282
        },
        "outputId": "ce4d4928-d59a-4a0f-9096-01ee13b77c78"
      },
      "source": [
        "df.y.hist()"
      ],
      "execution_count": 6,
      "outputs": [
        {
          "output_type": "execute_result",
          "data": {
            "text/plain": [
              "<matplotlib.axes._subplots.AxesSubplot at 0x7f2afe0569e8>"
            ]
          },
          "metadata": {
            "tags": []
          },
          "execution_count": 6
        },
        {
          "output_type": "display_data",
          "data": {
            "image/png": "[encoded data removed]",
            "text/plain": [
              "<Figure size 432x288 with 1 Axes>"
            ]
          },
          "metadata": {
            "tags": [],
            "needs_background": "light"
          }
        }
      ]
    },
    {
      "cell_type": "code",
      "metadata": {
        "id": "P0nEwGzL1oZx",
        "colab_type": "code",
        "colab": {}
      },
      "source": [
        "import matplotlib.pyplot as plt"
      ],
      "execution_count": 7,
      "outputs": []
    },
    {
      "cell_type": "markdown",
      "metadata": {
        "id": "AOLFoeg-2f_z",
        "colab_type": "text"
      },
      "source": [
        "The player's succes rate depends on the attempts"
      ]
    },
    {
      "cell_type": "code",
      "metadata": {
        "id": "3hF2pTsJ196y",
        "colab_type": "code",
        "colab": {}
      },
      "source": [
        "data1 = exponential(5, 20)\n",
        "data2 = exponential(6, 20)"
      ],
      "execution_count": 8,
      "outputs": []
    },
    {
      "cell_type": "code",
      "metadata": {
        "id": "wwO5GPIe2Hot",
        "colab_type": "code",
        "colab": {
          "base_uri": "https://localhost:8080/",
          "height": 402
        },
        "outputId": "7c86755f-5b0b-45f2-8642-7706d0cc07af"
      },
      "source": [
        "plt.plot(data1, label='First player')\n",
        "plt.scatter(range(len(data2)), data2, color='red', label='Second player')\n",
        "plt.title('Results', fontdict={'fontsize': 20})\n",
        "plt.xlabel('Attempt number')\n",
        "plt.ylabel('Result')\n",
        "plt.legend()\n",
        "plt.xticks(range(0,20,4))"
      ],
      "execution_count": 23,
      "outputs": [
        {
          "output_type": "execute_result",
          "data": {
            "text/plain": [
              "([<matplotlib.axis.XTick at 0x7f2afd1708d0>,\n",
              "  <matplotlib.axis.XTick at 0x7f2afd170898>,\n",
              "  <matplotlib.axis.XTick at 0x7f2afd170588>,\n",
              "  <matplotlib.axis.XTick at 0x7f2afd19de10>,\n",
              "  <matplotlib.axis.XTick at 0x7f2afd1a62e8>],\n",
              " <a list of 5 Text major ticklabel objects>)"
            ]
          },
          "metadata": {
            "tags": []
          },
          "execution_count": 23
        },
        {
          "output_type": "display_data",
          "data": {
            "image/png": "[encoded data removed]",
            "text/plain": [
              "<Figure size 432x288 with 1 Axes>"
            ]
          },
          "metadata": {
            "tags": [],
            "needs_background": "light"
          }
        }
      ]
    },
    {
      "cell_type": "code",
      "metadata": {
        "id": "WOARdcYmc3ge",
        "colab_type": "code",
        "colab": {
          "base_uri": "https://localhost:8080/",
          "height": 34
        },
        "outputId": "5c6d7761-ede7-44a4-a860-0bbd79f382fc"
      },
      "source": [
        "plt.savefig('results.pdf')"
      ],
      "execution_count": 25,
      "outputs": [
        {
          "output_type": "display_data",
          "data": {
            "text/plain": [
              "<Figure size 432x288 with 0 Axes>"
            ]
          },
          "metadata": {
            "tags": []
          }
        }
      ]
    }
  ]
}