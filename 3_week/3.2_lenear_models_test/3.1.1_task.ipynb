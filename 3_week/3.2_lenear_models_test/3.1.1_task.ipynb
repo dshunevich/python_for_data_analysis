{
 "cells": [
  {
   "cell_type": "markdown",
   "metadata": {},
   "source": [
    "# Практическое задание"
   ]
  },
  {
   "cell_type": "markdown",
   "metadata": {},
   "source": [
    "В этом практическом задании мы поработаем с алгоритмом линейной регрессии и нормализацией признаков. Для начала загрузите данные из файла `data.csv`, который содержит 100 признаков f1, f2, ..., f100 и целевую переменную target. Для загрузки данных используете функцию `read_csv` из библиотеки `pandas`. Выделите матрицу признаков и целевую переменную из загруженных данных."
   ]
  },
  {
   "cell_type": "markdown",
   "metadata": {},
   "source": [
    "### *РЕШЕНИЕ*"
   ]
  },
  {
   "cell_type": "code",
   "execution_count": 1,
   "metadata": {},
   "outputs": [
    {
     "data": {
      "text/html": [
       "<div>\n",
       "<style scoped>\n",
       "    .dataframe tbody tr th:only-of-type {\n",
       "        vertical-align: middle;\n",
       "    }\n",
       "\n",
       "    .dataframe tbody tr th {\n",
       "        vertical-align: top;\n",
       "    }\n",
       "\n",
       "    .dataframe thead th {\n",
       "        text-align: right;\n",
       "    }\n",
       "</style>\n",
       "<table border=\"1\" class=\"dataframe\">\n",
       "  <thead>\n",
       "    <tr style=\"text-align: right;\">\n",
       "      <th></th>\n",
       "      <th>f1</th>\n",
       "      <th>f2</th>\n",
       "      <th>f3</th>\n",
       "      <th>f4</th>\n",
       "      <th>f5</th>\n",
       "      <th>f6</th>\n",
       "      <th>f7</th>\n",
       "      <th>f8</th>\n",
       "      <th>f9</th>\n",
       "      <th>f10</th>\n",
       "      <th>...</th>\n",
       "      <th>f92</th>\n",
       "      <th>f93</th>\n",
       "      <th>f94</th>\n",
       "      <th>f95</th>\n",
       "      <th>f96</th>\n",
       "      <th>f97</th>\n",
       "      <th>f98</th>\n",
       "      <th>f99</th>\n",
       "      <th>f100</th>\n",
       "      <th>target</th>\n",
       "    </tr>\n",
       "  </thead>\n",
       "  <tbody>\n",
       "    <tr>\n",
       "      <th>0</th>\n",
       "      <td>-1.979019</td>\n",
       "      <td>0.392456</td>\n",
       "      <td>1.195177</td>\n",
       "      <td>0.209349</td>\n",
       "      <td>-1.209435</td>\n",
       "      <td>0.868798</td>\n",
       "      <td>0.384209</td>\n",
       "      <td>-0.426571</td>\n",
       "      <td>-0.977939</td>\n",
       "      <td>-1.419877</td>\n",
       "      <td>...</td>\n",
       "      <td>-1.587188</td>\n",
       "      <td>-0.612423</td>\n",
       "      <td>-0.281845</td>\n",
       "      <td>-0.625773</td>\n",
       "      <td>-0.907327</td>\n",
       "      <td>-0.800223</td>\n",
       "      <td>0.065892</td>\n",
       "      <td>0.271684</td>\n",
       "      <td>-0.201420</td>\n",
       "      <td>-45.587910</td>\n",
       "    </tr>\n",
       "    <tr>\n",
       "      <th>1</th>\n",
       "      <td>0.613518</td>\n",
       "      <td>0.051946</td>\n",
       "      <td>0.238789</td>\n",
       "      <td>-0.071601</td>\n",
       "      <td>-0.080717</td>\n",
       "      <td>1.727543</td>\n",
       "      <td>-0.483886</td>\n",
       "      <td>0.635172</td>\n",
       "      <td>0.038003</td>\n",
       "      <td>1.573987</td>\n",
       "      <td>...</td>\n",
       "      <td>0.059630</td>\n",
       "      <td>0.120031</td>\n",
       "      <td>0.399223</td>\n",
       "      <td>0.494030</td>\n",
       "      <td>0.197600</td>\n",
       "      <td>0.652323</td>\n",
       "      <td>0.916328</td>\n",
       "      <td>-1.556582</td>\n",
       "      <td>-0.370614</td>\n",
       "      <td>137.329473</td>\n",
       "    </tr>\n",
       "    <tr>\n",
       "      <th>2</th>\n",
       "      <td>0.444198</td>\n",
       "      <td>-0.535317</td>\n",
       "      <td>0.664927</td>\n",
       "      <td>-0.327017</td>\n",
       "      <td>1.935154</td>\n",
       "      <td>-1.776012</td>\n",
       "      <td>0.207803</td>\n",
       "      <td>0.126178</td>\n",
       "      <td>0.252569</td>\n",
       "      <td>0.889037</td>\n",
       "      <td>...</td>\n",
       "      <td>0.195482</td>\n",
       "      <td>1.384532</td>\n",
       "      <td>0.522251</td>\n",
       "      <td>-0.127655</td>\n",
       "      <td>-0.403076</td>\n",
       "      <td>-0.111509</td>\n",
       "      <td>-0.183150</td>\n",
       "      <td>0.977816</td>\n",
       "      <td>-1.171654</td>\n",
       "      <td>141.355900</td>\n",
       "    </tr>\n",
       "    <tr>\n",
       "      <th>3</th>\n",
       "      <td>-1.485186</td>\n",
       "      <td>-0.101987</td>\n",
       "      <td>0.817982</td>\n",
       "      <td>-0.846498</td>\n",
       "      <td>-0.660834</td>\n",
       "      <td>-0.073107</td>\n",
       "      <td>-0.247340</td>\n",
       "      <td>-0.775607</td>\n",
       "      <td>1.015937</td>\n",
       "      <td>-1.075737</td>\n",
       "      <td>...</td>\n",
       "      <td>0.753417</td>\n",
       "      <td>-0.403380</td>\n",
       "      <td>0.087974</td>\n",
       "      <td>-1.525572</td>\n",
       "      <td>2.404838</td>\n",
       "      <td>0.011863</td>\n",
       "      <td>0.994299</td>\n",
       "      <td>-2.152914</td>\n",
       "      <td>-0.213593</td>\n",
       "      <td>-65.882640</td>\n",
       "    </tr>\n",
       "    <tr>\n",
       "      <th>4</th>\n",
       "      <td>0.276582</td>\n",
       "      <td>-0.208468</td>\n",
       "      <td>0.185689</td>\n",
       "      <td>0.508608</td>\n",
       "      <td>-1.527168</td>\n",
       "      <td>-1.373403</td>\n",
       "      <td>-0.481766</td>\n",
       "      <td>-2.854627</td>\n",
       "      <td>1.868818</td>\n",
       "      <td>-1.179460</td>\n",
       "      <td>...</td>\n",
       "      <td>-0.985540</td>\n",
       "      <td>0.419706</td>\n",
       "      <td>-0.610858</td>\n",
       "      <td>0.209534</td>\n",
       "      <td>-0.538048</td>\n",
       "      <td>0.164295</td>\n",
       "      <td>-0.984655</td>\n",
       "      <td>-0.598438</td>\n",
       "      <td>-0.887770</td>\n",
       "      <td>-333.409221</td>\n",
       "    </tr>\n",
       "  </tbody>\n",
       "</table>\n",
       "<p>5 rows × 101 columns</p>\n",
       "</div>"
      ],
      "text/plain": [
       "         f1        f2        f3        f4        f5        f6        f7  \\\n",
       "0 -1.979019  0.392456  1.195177  0.209349 -1.209435  0.868798  0.384209   \n",
       "1  0.613518  0.051946  0.238789 -0.071601 -0.080717  1.727543 -0.483886   \n",
       "2  0.444198 -0.535317  0.664927 -0.327017  1.935154 -1.776012  0.207803   \n",
       "3 -1.485186 -0.101987  0.817982 -0.846498 -0.660834 -0.073107 -0.247340   \n",
       "4  0.276582 -0.208468  0.185689  0.508608 -1.527168 -1.373403 -0.481766   \n",
       "\n",
       "         f8        f9       f10  ...       f92       f93       f94       f95  \\\n",
       "0 -0.426571 -0.977939 -1.419877  ... -1.587188 -0.612423 -0.281845 -0.625773   \n",
       "1  0.635172  0.038003  1.573987  ...  0.059630  0.120031  0.399223  0.494030   \n",
       "2  0.126178  0.252569  0.889037  ...  0.195482  1.384532  0.522251 -0.127655   \n",
       "3 -0.775607  1.015937 -1.075737  ...  0.753417 -0.403380  0.087974 -1.525572   \n",
       "4 -2.854627  1.868818 -1.179460  ... -0.985540  0.419706 -0.610858  0.209534   \n",
       "\n",
       "        f96       f97       f98       f99      f100      target  \n",
       "0 -0.907327 -0.800223  0.065892  0.271684 -0.201420  -45.587910  \n",
       "1  0.197600  0.652323  0.916328 -1.556582 -0.370614  137.329473  \n",
       "2 -0.403076 -0.111509 -0.183150  0.977816 -1.171654  141.355900  \n",
       "3  2.404838  0.011863  0.994299 -2.152914 -0.213593  -65.882640  \n",
       "4 -0.538048  0.164295 -0.984655 -0.598438 -0.887770 -333.409221  \n",
       "\n",
       "[5 rows x 101 columns]"
      ]
     },
     "execution_count": 1,
     "metadata": {},
     "output_type": "execute_result"
    }
   ],
   "source": [
    "import numpy as np\n",
    "import pandas as pd\n",
    "\n",
    "data = pd.read_csv('data.csv')\n",
    "data.head()"
   ]
  },
  {
   "cell_type": "code",
   "execution_count": 2,
   "metadata": {},
   "outputs": [],
   "source": [
    "# all columns except 'target' \n",
    "X = data[data.columns[:-1]]\n",
    "\n",
    "# only column 'target'\n",
    "y = data[data.columns[-1]]"
   ]
  },
  {
   "cell_type": "markdown",
   "metadata": {},
   "source": [
    "Далее, разделите загруженный датасет на тренировочную и тестовую выборку. Для этого используйте функцию `train_test_split` из модуля `sklearn.model_selection` с параметрами `random_state=42` и `test_size=0.33`. Обучите линейную регрессию на тренировочных данных и оцените среднеквадратическую ошибку на тестовых данных. Один из вариантов линейной регрессии в `scikit-learn` представлен классом `Ridge` из `sklearn.linear_model`.\n",
    "Используйте параметр `random_state=42` в конструкторе класса при создании его экземпляра. Оценку среднеквадратичной ошибки проведите с помощью функции `mean_squared_error` из модуля `sklearn.metrics`. В качестве ответа `answer1` приведите это значение округлённое с точностью до двух знаков."
   ]
  },
  {
   "cell_type": "markdown",
   "metadata": {},
   "source": [
    "### *РЕШЕНИЕ*"
   ]
  },
  {
   "cell_type": "code",
   "execution_count": 3,
   "metadata": {},
   "outputs": [
    {
     "data": {
      "text/plain": [
       "Ridge(alpha=1.0, copy_X=True, fit_intercept=True, max_iter=None,\n",
       "      normalize=False, random_state=42, solver='auto', tol=0.001)"
      ]
     },
     "execution_count": 3,
     "metadata": {},
     "output_type": "execute_result"
    }
   ],
   "source": [
    "from sklearn.model_selection import train_test_split\n",
    "from sklearn.linear_model import Ridge\n",
    "from sklearn.metrics import mean_squared_error\n",
    "\n",
    "X_train, X_test, y_train, y_test = train_test_split(X, y, random_state=42, test_size=0.33)\n",
    "\n",
    "clf = Ridge(random_state=42)\n",
    "clf.fit(X_train, y_train)"
   ]
  },
  {
   "cell_type": "code",
   "execution_count": 4,
   "metadata": {},
   "outputs": [
    {
     "data": {
      "text/plain": [
       "array([-6.09087749e+00, -7.63842442e-01, -3.18385300e+00, -6.43131082e+00,\n",
       "       -9.98027231e+00, -4.06826514e+00, -3.61008351e-01,  3.78967596e+01,\n",
       "        3.48795399e+00, -2.11323059e-01,  5.45403291e+00,  2.53645322e+00,\n",
       "        1.18464435e+00,  2.57545908e+00, -1.53065266e+00, -3.58887954e+00,\n",
       "       -1.98653929e+00, -5.42877546e+00,  3.87620112e+00,  3.58699130e+00,\n",
       "       -8.36632121e+00, -1.13143469e+01,  4.67191413e+01,  1.98606738e+00,\n",
       "        3.87280911e+00,  7.52153904e+00, -6.65200662e-01,  1.59976745e+00,\n",
       "        1.79774304e+01,  4.06799843e+00,  1.10193503e+00, -9.32833645e+00,\n",
       "        6.13432560e+01,  1.56555145e+00, -1.84533151e+00, -1.09261397e+01,\n",
       "       -5.02149468e+00,  1.48756175e+01,  1.89948710e-01, -4.63188673e+00,\n",
       "        1.03108893e+00, -4.42108216e+00, -9.11897227e+00, -7.79433129e+00,\n",
       "       -1.69433851e-02,  6.89078898e+00,  4.02219760e+00, -1.45470894e+00,\n",
       "       -1.37332786e+01, -8.04492649e+00, -3.33865662e+00, -2.48272065e+00,\n",
       "       -1.07487774e+00,  7.22670253e+01,  3.51583666e+00,  5.14658365e+00,\n",
       "       -2.26537357e+00, -3.85821877e+00,  5.62556518e+00,  6.57375331e+00,\n",
       "        1.10388911e+01,  4.26052559e+00,  8.77759958e+00, -7.63861694e+00,\n",
       "       -4.83476789e+00, -8.51498005e-01,  4.87351738e+00, -3.51495216e+00,\n",
       "        1.51662266e+01,  3.90785963e+00, -1.49416327e+00, -1.16553925e+01,\n",
       "        9.96965086e+00, -1.25938507e+01, -1.10561014e+00, -3.08600496e+00,\n",
       "        3.84139668e+00,  5.24606286e+00, -2.70936227e+00,  3.11514983e-01,\n",
       "        2.58827421e+00, -4.81786506e+00,  1.45390158e-01,  4.28124640e+01,\n",
       "       -7.66956470e+00, -4.34928517e+00, -4.65715154e+00,  1.77753574e+01,\n",
       "       -4.08954633e-01, -1.57401554e+00, -5.03095746e+00,  1.86472421e+01,\n",
       "        3.81718544e+00, -8.40182510e+00,  2.50522970e+00,  5.09721419e+00,\n",
       "       -5.53803549e+00,  1.72074714e+00,  2.42943566e+00,  5.96625972e+00])"
      ]
     },
     "execution_count": 4,
     "metadata": {},
     "output_type": "execute_result"
    }
   ],
   "source": [
    "clf.coef_"
   ]
  },
  {
   "cell_type": "markdown",
   "metadata": {},
   "source": [
    "Сначала сделаем предсказание на тестовой выборке данных"
   ]
  },
  {
   "cell_type": "code",
   "execution_count": 5,
   "metadata": {},
   "outputs": [
    {
     "data": {
      "text/plain": [
       "array([ -15.32270816, -129.7391101 ,  102.22966322,  200.44003412,\n",
       "       -233.14913305,   97.75088143,  244.27617319,   99.87514912,\n",
       "        208.76555175, -217.55127944,   -4.81537268,  -76.14178047,\n",
       "        223.41251271,  -24.40262658, -168.15249488,   27.10400735,\n",
       "       -150.82423441,  -72.70806836,   28.98067847,  -33.00614955,\n",
       "       -243.44050311,    4.67222405,  -45.51252648,  -46.14038528,\n",
       "         29.24035629,  -91.09292125,   27.23477947,  -45.44401466,\n",
       "       -286.15710156,   63.03866256,  158.3523297 ,  132.65952556,\n",
       "        127.87872479,    2.40390944, -183.54363029,   43.44000182,\n",
       "        -69.00412189,   44.31208547,   31.42910929,   32.0929465 ,\n",
       "       -106.51321266,  115.55570691])"
      ]
     },
     "execution_count": 5,
     "metadata": {},
     "output_type": "execute_result"
    }
   ],
   "source": [
    "y_predicted = clf.predict(X_test)\n",
    "y_predicted"
   ]
  },
  {
   "cell_type": "code",
   "execution_count": 6,
   "metadata": {
    "scrolled": true
   },
   "outputs": [
    {
     "data": {
      "text/plain": [
       "4921.83"
      ]
     },
     "execution_count": 6,
     "metadata": {},
     "output_type": "execute_result"
    }
   ],
   "source": [
    "answer1 = round(mean_squared_error(y_test, y_predicted), 2)\n",
    "answer1"
   ]
  },
  {
   "cell_type": "code",
   "execution_count": null,
   "metadata": {},
   "outputs": [],
   "source": []
  },
  {
   "cell_type": "markdown",
   "metadata": {},
   "source": [
    "Далее вам предлагается стандартизовать данные используя `StandardScaler` из `sklearn.preprocessing`. По своей сути операция стандартизации в данном случае представляет из себя вычитание среднего из матрицы признаков и деление на среднеквадратическое отклонение. \n",
    "\n",
    "<font color  = \"red\">Важно:</font> Сначала следует разбить выборку на тренировочную и тестовую и лишь потом стандартизировать их по отдельности. Помните, что к тренировочной выборке мы должны применять метод `fit_transform()`, а к тестовой только `transform()`. Как изменилось качество на тестовых данных? В `answer2` запишите значение среднеквадратической ошибки, округлённое с точностью до двух знаков после запятой."
   ]
  },
  {
   "cell_type": "code",
   "execution_count": 7,
   "metadata": {},
   "outputs": [],
   "source": [
    "from sklearn.preprocessing import StandardScaler\n",
    "\n",
    "\n",
    "scaler = StandardScaler()\n",
    "\n",
    "X = data[data.columns[:-1]]\n",
    "y = data[data.columns[-1]]\n",
    "\n",
    "# если не создать новые датафреймы тогда выдает ошибку - что необходимо сделать reshape(-1, 1)\n",
    "X_std = pd.DataFrame(data=X, columns=data.columns[:-1])\n",
    "y_std = pd.DataFrame(data=y, columns=[data.columns[-1]])\n",
    "\n",
    "X_train_std, X_test_std, y_train_std, y_test_std = train_test_split(X_std, y_std, random_state=42, test_size=0.33)\n",
    "\n",
    "X_train_scaled_std = scaler.fit_transform(X_train_std)\n",
    "y_train_scaled_std = scaler.fit_transform(y_train_std)\n",
    "\n",
    "X_test_scaled_std = scaler.fit_transform(X_test_std)\n",
    "y_test_scaled_std = scaler.fit_transform(y_test_std)\n",
    "\n",
    "clf = Ridge(random_state=42)\n",
    "clf.fit(X_train_scaled_std, y_train_scaled_std)\n",
    "\n",
    "y_predicted_scaled_std = clf.predict(X_test_scaled_std)\n",
    "\n",
    "answer2 = round(mean_squared_error(y_predicted_scaled_std, y_test_scaled_std), 2)"
   ]
  },
  {
   "cell_type": "markdown",
   "metadata": {},
   "source": [
    "## Строка с ответами"
   ]
  },
  {
   "cell_type": "code",
   "execution_count": 8,
   "metadata": {},
   "outputs": [
    {
     "name": "stdout",
     "output_type": "stream",
     "text": [
      "mse 1: 4921.83\n",
      "mse 2: 0.16\n"
     ]
    }
   ],
   "source": [
    "print('mse 1: {0:.2f}\\nmse 2: {1:.2f}'.format(answer1, answer2))"
   ]
  },
  {
   "cell_type": "code",
   "execution_count": null,
   "metadata": {},
   "outputs": [],
   "source": []
  }
 ],
 "metadata": {
  "kernelspec": {
   "display_name": "Python 3",
   "language": "python",
   "name": "python3"
  },
  "language_info": {
   "codemirror_mode": {
    "name": "ipython",
    "version": 3
   },
   "file_extension": ".py",
   "mimetype": "text/x-python",
   "name": "python",
   "nbconvert_exporter": "python",
   "pygments_lexer": "ipython3",
   "version": "3.7.6"
  }
 },
 "nbformat": 4,
 "nbformat_minor": 2
}
