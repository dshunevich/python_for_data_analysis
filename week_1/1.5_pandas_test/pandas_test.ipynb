{
  "nbformat": 4,
  "nbformat_minor": 0,
  "metadata": {
    "colab": {
      "name": "pandas_test.ipynb",
      "provenance": [],
      "collapsed_sections": []
    },
    "kernelspec": {
      "name": "python3",
      "display_name": "Python 3"
    }
  },
  "cells": [
    {
      "cell_type": "markdown",
      "metadata": {
        "id": "ukHhZ4h1tlTJ",
        "colab_type": "text"
      },
      "source": [
        "download dataset  \n",
        "https://s3.amazonaws.com/tripdata/index.html  \n",
        "https://s3.amazonaws.com/tripdata/201809-citibike-tripdata.csv.zip  "
      ]
    },
    {
      "cell_type": "code",
      "metadata": {
        "id": "Tn-fLBfktijX",
        "colab_type": "code",
        "colab": {}
      },
      "source": [
        "from google.colab import drive\n",
        "drive.mount('/gdrive')\n"
      ],
      "execution_count": null,
      "outputs": []
    },
    {
      "cell_type": "code",
      "metadata": {
        "id": "fPBGdb3rX-1e",
        "colab_type": "code",
        "colab": {}
      },
      "source": [
        "import pandas as pd\n",
        "df = pd.read_csv(\"/gdrive/My Drive/data/201809-citibike-tripdata.csv\")"
      ],
      "execution_count": 2,
      "outputs": []
    },
    {
      "cell_type": "code",
      "metadata": {
        "id": "W-46HBV6k8Sm",
        "colab_type": "code",
        "colab": {
          "base_uri": "https://localhost:8080/",
          "height": 323
        },
        "outputId": "42928ab5-dfa5-4dec-a753-46154e43546a"
      },
      "source": [
        "df.head()"
      ],
      "execution_count": 3,
      "outputs": [
        {
          "output_type": "execute_result",
          "data": {
            "text/html": [
              "<div>\n",
              "<style scoped>\n",
              "    .dataframe tbody tr th:only-of-type {\n",
              "        vertical-align: middle;\n",
              "    }\n",
              "\n",
              "    .dataframe tbody tr th {\n",
              "        vertical-align: top;\n",
              "    }\n",
              "\n",
              "    .dataframe thead th {\n",
              "        text-align: right;\n",
              "    }\n",
              "</style>\n",
              "<table border=\"1\" class=\"dataframe\">\n",
              "  <thead>\n",
              "    <tr style=\"text-align: right;\">\n",
              "      <th></th>\n",
              "      <th>tripduration</th>\n",
              "      <th>starttime</th>\n",
              "      <th>stoptime</th>\n",
              "      <th>start station id</th>\n",
              "      <th>start station name</th>\n",
              "      <th>start station latitude</th>\n",
              "      <th>start station longitude</th>\n",
              "      <th>end station id</th>\n",
              "      <th>end station name</th>\n",
              "      <th>end station latitude</th>\n",
              "      <th>end station longitude</th>\n",
              "      <th>bikeid</th>\n",
              "      <th>usertype</th>\n",
              "      <th>birth year</th>\n",
              "      <th>gender</th>\n",
              "    </tr>\n",
              "  </thead>\n",
              "  <tbody>\n",
              "    <tr>\n",
              "      <th>0</th>\n",
              "      <td>1635</td>\n",
              "      <td>2018-09-01 00:00:05.2690</td>\n",
              "      <td>2018-09-01 00:27:20.6340</td>\n",
              "      <td>252.0</td>\n",
              "      <td>MacDougal St &amp; Washington Sq</td>\n",
              "      <td>40.732264</td>\n",
              "      <td>-73.998522</td>\n",
              "      <td>366.0</td>\n",
              "      <td>Clinton Ave &amp; Myrtle Ave</td>\n",
              "      <td>40.693261</td>\n",
              "      <td>-73.968896</td>\n",
              "      <td>25577</td>\n",
              "      <td>Subscriber</td>\n",
              "      <td>1980</td>\n",
              "      <td>1</td>\n",
              "    </tr>\n",
              "    <tr>\n",
              "      <th>1</th>\n",
              "      <td>132</td>\n",
              "      <td>2018-09-01 00:00:11.2810</td>\n",
              "      <td>2018-09-01 00:02:23.4810</td>\n",
              "      <td>314.0</td>\n",
              "      <td>Cadman Plaza West &amp; Montague St</td>\n",
              "      <td>40.693830</td>\n",
              "      <td>-73.990539</td>\n",
              "      <td>3242.0</td>\n",
              "      <td>Schermerhorn St &amp; Court St</td>\n",
              "      <td>40.691029</td>\n",
              "      <td>-73.991834</td>\n",
              "      <td>34377</td>\n",
              "      <td>Subscriber</td>\n",
              "      <td>1969</td>\n",
              "      <td>0</td>\n",
              "    </tr>\n",
              "    <tr>\n",
              "      <th>2</th>\n",
              "      <td>3337</td>\n",
              "      <td>2018-09-01 00:00:20.6490</td>\n",
              "      <td>2018-09-01 00:55:58.5470</td>\n",
              "      <td>3142.0</td>\n",
              "      <td>1 Ave &amp; E 62 St</td>\n",
              "      <td>40.761227</td>\n",
              "      <td>-73.960940</td>\n",
              "      <td>3384.0</td>\n",
              "      <td>Smith St &amp; 3 St</td>\n",
              "      <td>40.678724</td>\n",
              "      <td>-73.995991</td>\n",
              "      <td>30496</td>\n",
              "      <td>Subscriber</td>\n",
              "      <td>1975</td>\n",
              "      <td>1</td>\n",
              "    </tr>\n",
              "    <tr>\n",
              "      <th>3</th>\n",
              "      <td>436</td>\n",
              "      <td>2018-09-01 00:00:21.7460</td>\n",
              "      <td>2018-09-01 00:07:38.5830</td>\n",
              "      <td>308.0</td>\n",
              "      <td>St James Pl &amp; Oliver St</td>\n",
              "      <td>40.713079</td>\n",
              "      <td>-73.998512</td>\n",
              "      <td>3690.0</td>\n",
              "      <td>Park Pl &amp; Church St</td>\n",
              "      <td>40.713342</td>\n",
              "      <td>-74.009355</td>\n",
              "      <td>28866</td>\n",
              "      <td>Subscriber</td>\n",
              "      <td>1984</td>\n",
              "      <td>2</td>\n",
              "    </tr>\n",
              "    <tr>\n",
              "      <th>4</th>\n",
              "      <td>8457</td>\n",
              "      <td>2018-09-01 00:00:27.3150</td>\n",
              "      <td>2018-09-01 02:21:25.3080</td>\n",
              "      <td>345.0</td>\n",
              "      <td>W 13 St &amp; 6 Ave</td>\n",
              "      <td>40.736494</td>\n",
              "      <td>-73.997044</td>\n",
              "      <td>380.0</td>\n",
              "      <td>W 4 St &amp; 7 Ave S</td>\n",
              "      <td>40.734011</td>\n",
              "      <td>-74.002939</td>\n",
              "      <td>20943</td>\n",
              "      <td>Customer</td>\n",
              "      <td>1994</td>\n",
              "      <td>1</td>\n",
              "    </tr>\n",
              "  </tbody>\n",
              "</table>\n",
              "</div>"
            ],
            "text/plain": [
              "   tripduration                 starttime  ... birth year  gender\n",
              "0          1635  2018-09-01 00:00:05.2690  ...       1980       1\n",
              "1           132  2018-09-01 00:00:11.2810  ...       1969       0\n",
              "2          3337  2018-09-01 00:00:20.6490  ...       1975       1\n",
              "3           436  2018-09-01 00:00:21.7460  ...       1984       2\n",
              "4          8457  2018-09-01 00:00:27.3150  ...       1994       1\n",
              "\n",
              "[5 rows x 15 columns]"
            ]
          },
          "metadata": {
            "tags": []
          },
          "execution_count": 3
        }
      ]
    },
    {
      "cell_type": "markdown",
      "metadata": {
        "id": "OnPlXINYltcM",
        "colab_type": "text"
      },
      "source": [
        "# Найти общее количество строк и столбцов в датасете - указать первым число строк, вторым - число столбцов"
      ]
    },
    {
      "cell_type": "code",
      "metadata": {
        "id": "O-PEf_C7lEc3",
        "colab_type": "code",
        "colab": {
          "base_uri": "https://localhost:8080/",
          "height": 34
        },
        "outputId": "4eca9738-fe1a-4d83-ba46-89f95dd8b34a"
      },
      "source": [
        "df.shape"
      ],
      "execution_count": 4,
      "outputs": [
        {
          "output_type": "execute_result",
          "data": {
            "text/plain": [
              "(1877884, 15)"
            ]
          },
          "metadata": {
            "tags": []
          },
          "execution_count": 4
        }
      ]
    },
    {
      "cell_type": "markdown",
      "metadata": {
        "id": "EHhex5ULmUxJ",
        "colab_type": "text"
      },
      "source": [
        "# Найти среднюю длину поездок в минутах(столбец tripduration) c точностью до 2 знака"
      ]
    },
    {
      "cell_type": "code",
      "metadata": {
        "id": "kxOsNIRaenbu",
        "colab_type": "code",
        "colab": {
          "base_uri": "https://localhost:8080/",
          "height": 34
        },
        "outputId": "e83b7c2f-80f9-4479-eda0-127f3b1547dd"
      },
      "source": [
        "#*\n",
        "df['tripduration'] = df['tripduration']/60\n",
        "round(df.describe()['tripduration']['mean'], 2)"
      ],
      "execution_count": 5,
      "outputs": [
        {
          "output_type": "execute_result",
          "data": {
            "text/plain": [
              "16.13"
            ]
          },
          "metadata": {
            "tags": []
          },
          "execution_count": 5
        }
      ]
    },
    {
      "cell_type": "markdown",
      "metadata": {
        "id": "ntvFQiHjnEcL",
        "colab_type": "text"
      },
      "source": [
        "## Сколько поездок начались и закончились в той же самой станции?"
      ]
    },
    {
      "cell_type": "code",
      "metadata": {
        "id": "Drqd27vHnOaX",
        "colab_type": "code",
        "colab": {
          "base_uri": "https://localhost:8080/",
          "height": 34
        },
        "outputId": "9de0cfec-a25f-4e3d-f802-c78086c95a67"
      },
      "source": [
        "df[df['start station id'] == df['end station id']].shape"
      ],
      "execution_count": 6,
      "outputs": [
        {
          "output_type": "execute_result",
          "data": {
            "text/plain": [
              "(41364, 15)"
            ]
          },
          "metadata": {
            "tags": []
          },
          "execution_count": 6
        }
      ]
    },
    {
      "cell_type": "code",
      "metadata": {
        "id": "ly5PHArAmdgR",
        "colab_type": "code",
        "colab": {
          "base_uri": "https://localhost:8080/",
          "height": 34
        },
        "outputId": "ab5fe593-c578-4ec3-cfa5-c0389fddea86"
      },
      "source": [
        "#*\n",
        "df[(df['start station id'] == df['end station id'])]['bikeid'].unique().shape"
      ],
      "execution_count": 7,
      "outputs": [
        {
          "output_type": "execute_result",
          "data": {
            "text/plain": [
              "(9939,)"
            ]
          },
          "metadata": {
            "tags": []
          },
          "execution_count": 7
        }
      ]
    },
    {
      "cell_type": "markdown",
      "metadata": {
        "id": "3yS2yeM8Z3r6",
        "colab_type": "text"
      },
      "source": [
        "# Какой самый используемый байк(bikeid) в городе по количеству поездок?"
      ]
    },
    {
      "cell_type": "code",
      "metadata": {
        "id": "kjdV6vI-Z42X",
        "colab_type": "code",
        "colab": {
          "base_uri": "https://localhost:8080/",
          "height": 235
        },
        "outputId": "7e254da3-1511-41b0-b8dd-b065a67b49c2"
      },
      "source": [
        "df.groupby(['bikeid'])['bikeid'].agg(['count']).sort_values(by=['count'], ascending=False).head()\n"
      ],
      "execution_count": 8,
      "outputs": [
        {
          "output_type": "execute_result",
          "data": {
            "text/html": [
              "<div>\n",
              "<style scoped>\n",
              "    .dataframe tbody tr th:only-of-type {\n",
              "        vertical-align: middle;\n",
              "    }\n",
              "\n",
              "    .dataframe tbody tr th {\n",
              "        vertical-align: top;\n",
              "    }\n",
              "\n",
              "    .dataframe thead th {\n",
              "        text-align: right;\n",
              "    }\n",
              "</style>\n",
              "<table border=\"1\" class=\"dataframe\">\n",
              "  <thead>\n",
              "    <tr style=\"text-align: right;\">\n",
              "      <th></th>\n",
              "      <th>count</th>\n",
              "    </tr>\n",
              "    <tr>\n",
              "      <th>bikeid</th>\n",
              "      <th></th>\n",
              "    </tr>\n",
              "  </thead>\n",
              "  <tbody>\n",
              "    <tr>\n",
              "      <th>33875</th>\n",
              "      <td>559</td>\n",
              "    </tr>\n",
              "    <tr>\n",
              "      <th>33772</th>\n",
              "      <td>549</td>\n",
              "    </tr>\n",
              "    <tr>\n",
              "      <th>34357</th>\n",
              "      <td>549</td>\n",
              "    </tr>\n",
              "    <tr>\n",
              "      <th>33868</th>\n",
              "      <td>533</td>\n",
              "    </tr>\n",
              "    <tr>\n",
              "      <th>33878</th>\n",
              "      <td>532</td>\n",
              "    </tr>\n",
              "  </tbody>\n",
              "</table>\n",
              "</div>"
            ],
            "text/plain": [
              "        count\n",
              "bikeid       \n",
              "33875     559\n",
              "33772     549\n",
              "34357     549\n",
              "33868     533\n",
              "33878     532"
            ]
          },
          "metadata": {
            "tags": []
          },
          "execution_count": 8
        }
      ]
    },
    {
      "cell_type": "code",
      "metadata": {
        "id": "cma_nTAb_RbB",
        "colab_type": "code",
        "colab": {
          "base_uri": "https://localhost:8080/",
          "height": 51
        },
        "outputId": "e7ca9631-0d0c-430b-d07f-3aeed2513bb0"
      },
      "source": [
        "#*\n",
        "df['bikeid'].value_counts()[:1]"
      ],
      "execution_count": 20,
      "outputs": [
        {
          "output_type": "execute_result",
          "data": {
            "text/plain": [
              "33875    559\n",
              "Name: bikeid, dtype: int64"
            ]
          },
          "metadata": {
            "tags": []
          },
          "execution_count": 20
        }
      ]
    },
    {
      "cell_type": "markdown",
      "metadata": {
        "id": "Jp_ud60Vf6kb",
        "colab_type": "text"
      },
      "source": [
        "# Найдите идентификатор велосипеда (bikeid), у которого в среднем продолжительность поездок выше, чем у всех остальных"
      ]
    },
    {
      "cell_type": "code",
      "metadata": {
        "id": "jSuLkQ5Df7O1",
        "colab_type": "code",
        "colab": {
          "base_uri": "https://localhost:8080/",
          "height": 450
        },
        "outputId": "f1ac3c83-017d-40e8-ad78-04af219baf50"
      },
      "source": [
        "df.groupby(['tripduration', 'bikeid'])[['tripduration']].mean()"
      ],
      "execution_count": 9,
      "outputs": [
        {
          "output_type": "execute_result",
          "data": {
            "text/html": [
              "<div>\n",
              "<style scoped>\n",
              "    .dataframe tbody tr th:only-of-type {\n",
              "        vertical-align: middle;\n",
              "    }\n",
              "\n",
              "    .dataframe tbody tr th {\n",
              "        vertical-align: top;\n",
              "    }\n",
              "\n",
              "    .dataframe thead th {\n",
              "        text-align: right;\n",
              "    }\n",
              "</style>\n",
              "<table border=\"1\" class=\"dataframe\">\n",
              "  <thead>\n",
              "    <tr style=\"text-align: right;\">\n",
              "      <th></th>\n",
              "      <th></th>\n",
              "      <th>tripduration</th>\n",
              "    </tr>\n",
              "    <tr>\n",
              "      <th>tripduration</th>\n",
              "      <th>bikeid</th>\n",
              "      <th></th>\n",
              "    </tr>\n",
              "  </thead>\n",
              "  <tbody>\n",
              "    <tr>\n",
              "      <th rowspan=\"5\" valign=\"top\">1.016667</th>\n",
              "      <th>14532</th>\n",
              "      <td>1.016667</td>\n",
              "    </tr>\n",
              "    <tr>\n",
              "      <th>14691</th>\n",
              "      <td>1.016667</td>\n",
              "    </tr>\n",
              "    <tr>\n",
              "      <th>14769</th>\n",
              "      <td>1.016667</td>\n",
              "    </tr>\n",
              "    <tr>\n",
              "      <th>14798</th>\n",
              "      <td>1.016667</td>\n",
              "    </tr>\n",
              "    <tr>\n",
              "      <th>14829</th>\n",
              "      <td>1.016667</td>\n",
              "    </tr>\n",
              "    <tr>\n",
              "      <th>...</th>\n",
              "      <th>...</th>\n",
              "      <td>...</td>\n",
              "    </tr>\n",
              "    <tr>\n",
              "      <th>31644.950000</th>\n",
              "      <th>33876</th>\n",
              "      <td>31644.950000</td>\n",
              "    </tr>\n",
              "    <tr>\n",
              "      <th>35374.350000</th>\n",
              "      <th>27911</th>\n",
              "      <td>35374.350000</td>\n",
              "    </tr>\n",
              "    <tr>\n",
              "      <th>39041.466667</th>\n",
              "      <th>19083</th>\n",
              "      <td>39041.466667</td>\n",
              "    </tr>\n",
              "    <tr>\n",
              "      <th>39369.900000</th>\n",
              "      <th>17431</th>\n",
              "      <td>39369.900000</td>\n",
              "    </tr>\n",
              "    <tr>\n",
              "      <th>40527.516667</th>\n",
              "      <th>17548</th>\n",
              "      <td>40527.516667</td>\n",
              "    </tr>\n",
              "  </tbody>\n",
              "</table>\n",
              "<p>1753156 rows × 1 columns</p>\n",
              "</div>"
            ],
            "text/plain": [
              "                     tripduration\n",
              "tripduration bikeid              \n",
              "1.016667     14532       1.016667\n",
              "             14691       1.016667\n",
              "             14769       1.016667\n",
              "             14798       1.016667\n",
              "             14829       1.016667\n",
              "...                           ...\n",
              "31644.950000 33876   31644.950000\n",
              "35374.350000 27911   35374.350000\n",
              "39041.466667 19083   39041.466667\n",
              "39369.900000 17431   39369.900000\n",
              "40527.516667 17548   40527.516667\n",
              "\n",
              "[1753156 rows x 1 columns]"
            ]
          },
          "metadata": {
            "tags": []
          },
          "execution_count": 9
        }
      ]
    },
    {
      "cell_type": "code",
      "metadata": {
        "id": "KjZ6_L3RAO6r",
        "colab_type": "code",
        "colab": {
          "base_uri": "https://localhost:8080/",
          "height": 68
        },
        "outputId": "28f20fbe-8dc1-4044-8992-ca94507cfa76"
      },
      "source": [
        "#*\n",
        "df.groupby('bikeid')['tripduration'].mean().sort_values(ascending=False)[:1]"
      ],
      "execution_count": 21,
      "outputs": [
        {
          "output_type": "execute_result",
          "data": {
            "text/plain": [
              "bikeid\n",
              "17548    8133.706667\n",
              "Name: tripduration, dtype: float64"
            ]
          },
          "metadata": {
            "tags": []
          },
          "execution_count": 21
        }
      ]
    },
    {
      "cell_type": "markdown",
      "metadata": {
        "id": "YCfCwC2Z9HO0",
        "colab_type": "text"
      },
      "source": [
        "# Сколько строк, в которых отсутствуют данные о start station id?"
      ]
    },
    {
      "cell_type": "code",
      "metadata": {
        "colab_type": "code",
        "id": "CMfOGd0RnsF7",
        "colab": {
          "base_uri": "https://localhost:8080/",
          "height": 51
        },
        "outputId": "3ef40072-2e3e-4cff-9673-65ba61de0e0b"
      },
      "source": [
        "df[df['start station id'].isnull()]['bikeid'].agg(['count'])"
      ],
      "execution_count": 10,
      "outputs": [
        {
          "output_type": "execute_result",
          "data": {
            "text/plain": [
              "count    716\n",
              "Name: bikeid, dtype: int64"
            ]
          },
          "metadata": {
            "tags": []
          },
          "execution_count": 10
        }
      ]
    },
    {
      "cell_type": "code",
      "metadata": {
        "id": "ykzNTvAsAbUT",
        "colab_type": "code",
        "colab": {
          "base_uri": "https://localhost:8080/",
          "height": 34
        },
        "outputId": "62107073-e6f2-4c41-bd87-6f3169f7b7f0"
      },
      "source": [
        "#*\n",
        "df[df['start station id'].isnull()].shape"
      ],
      "execution_count": 22,
      "outputs": [
        {
          "output_type": "execute_result",
          "data": {
            "text/plain": [
              "(716, 17)"
            ]
          },
          "metadata": {
            "tags": []
          },
          "execution_count": 22
        }
      ]
    },
    {
      "cell_type": "markdown",
      "metadata": {
        "id": "eYgntilj7hU3",
        "colab_type": "text"
      },
      "source": [
        "# Какова средняя продолжительность поездки в минутах в зависимости от типа подписки c точностью до 2 знака?"
      ]
    },
    {
      "cell_type": "code",
      "metadata": {
        "id": "-T-Ga71Y7i-R",
        "colab_type": "code",
        "colab": {
          "base_uri": "https://localhost:8080/",
          "height": 85
        },
        "outputId": "29759687-0e05-49aa-8516-80493024586a"
      },
      "source": [
        "df.groupby(['usertype'])['tripduration'].mean() / 60"
      ],
      "execution_count": 11,
      "outputs": [
        {
          "output_type": "execute_result",
          "data": {
            "text/plain": [
              "usertype\n",
              "Customer      0.556923\n",
              "Subscriber    0.222206\n",
              "Name: tripduration, dtype: float64"
            ]
          },
          "metadata": {
            "tags": []
          },
          "execution_count": 11
        }
      ]
    },
    {
      "cell_type": "code",
      "metadata": {
        "id": "8zGkqNtagSMy",
        "colab_type": "code",
        "colab": {
          "base_uri": "https://localhost:8080/",
          "height": 85
        },
        "outputId": "924af7ba-3c29-46ec-f94b-c577f7484cf0"
      },
      "source": [
        "#*\n",
        "round(df.groupby('usertype')['tripduration'].mean(),2)"
      ],
      "execution_count": 23,
      "outputs": [
        {
          "output_type": "execute_result",
          "data": {
            "text/plain": [
              "usertype\n",
              "Customer      33.42\n",
              "Subscriber    13.33\n",
              "Name: tripduration, dtype: float64"
            ]
          },
          "metadata": {
            "tags": []
          },
          "execution_count": 23
        }
      ]
    },
    {
      "cell_type": "markdown",
      "metadata": {
        "id": "yXPI9dFd899t",
        "colab_type": "text"
      },
      "source": [
        "# Найдите среднюю длину поездок в километрах с точностью до 2 знака, предварительно выкинув замкнутые траектории(те у которых совпадают start station id = end station id).\n",
        "\n",
        "# Hint: можно воспользоваться библиотекой geopy и взять расстояние vincenty(минимальное расстояние между точками)"
      ]
    },
    {
      "cell_type": "code",
      "metadata": {
        "id": "hQrAKmBP9AAp",
        "colab_type": "code",
        "colab": {}
      },
      "source": [
        "from geopy.distance import vincenty"
      ],
      "execution_count": 12,
      "outputs": []
    },
    {
      "cell_type": "code",
      "metadata": {
        "id": "tgDOw1i0NlKb",
        "colab_type": "code",
        "colab": {
          "base_uri": "https://localhost:8080/",
          "height": 34
        },
        "outputId": "3ac137c9-56ef-481b-aa93-263093503748"
      },
      "source": [
        "round(df[df['start station id'] != df['end station id']].apply(lambda df: vincenty(\n",
        "              (df['start station latitude'],df['start station longitude']),\n",
        "              (df['end station latitude'],df['end station longitude'])\n",
        "              ).km,\n",
        "              axis=1).mean(),2)"
      ],
      "execution_count": 13,
      "outputs": [
        {
          "output_type": "execute_result",
          "data": {
            "text/plain": [
              "1.85"
            ]
          },
          "metadata": {
            "tags": []
          },
          "execution_count": 13
        }
      ]
    },
    {
      "cell_type": "code",
      "metadata": {
        "id": "GPrcu-9Cgnx4",
        "colab_type": "code",
        "colab": {
          "base_uri": "https://localhost:8080/",
          "height": 136
        },
        "outputId": "b1dbd9a0-15b1-4d6c-8fec-0709a4b19e69"
      },
      "source": [
        "#*\n",
        "df['distance_km'] = df.apply(lambda x: vincenty((x['start station latitude'], x['start station longitude']),\n",
        "                                                            (x['end station latitude'], x['end station longitude'])).kilometers, axis=1)\n",
        "\n",
        "print(df['distance_km'].mean())\n",
        "\n",
        "df['end station name'].value_counts()[:5]"
      ],
      "execution_count": 24,
      "outputs": [
        {
          "output_type": "stream",
          "text": [
            "1.8088453985540238\n"
          ],
          "name": "stdout"
        },
        {
          "output_type": "execute_result",
          "data": {
            "text/plain": [
              "Pershing Square North    13834\n",
              "E 17 St & Broadway       11964\n",
              "West St & Chambers St    11173\n",
              "Broadway & E 22 St       10962\n",
              "W 21 St & 6 Ave          10431\n",
              "Name: end station name, dtype: int64"
            ]
          },
          "metadata": {
            "tags": []
          },
          "execution_count": 24
        }
      ]
    },
    {
      "cell_type": "markdown",
      "metadata": {
        "id": "aA79PN5lOCvi",
        "colab_type": "text"
      },
      "source": [
        "# Выберите станцию (start station id) с максимальным количеством отправлений с 18 до 20 вечера включительно"
      ]
    },
    {
      "cell_type": "code",
      "metadata": {
        "id": "h9i1pT1ySog2",
        "colab_type": "code",
        "colab": {}
      },
      "source": [
        "from datetime import datetime, time\n",
        "\n",
        "time_from = time(18, 00)\n",
        "time_till = time(20, 00)\n",
        "\n",
        "df['starttime_time'] = df.apply(lambda x: \n",
        "          datetime.strptime(x['starttime'],'%Y-%m-%d %H:%M:%S.%f').time()\n",
        "          ,axis=1)\n",
        "\n",
        "df_start_station = df[(df['starttime_time']>=time_from) & (df['starttime_time']<=time_till)]\n"
      ],
      "execution_count": 14,
      "outputs": []
    },
    {
      "cell_type": "code",
      "metadata": {
        "id": "2s5MCqShx7EB",
        "colab_type": "code",
        "colab": {
          "base_uri": "https://localhost:8080/",
          "height": 235
        },
        "outputId": "078a1ba3-d430-42d5-e7ab-620ce9d6412a"
      },
      "source": [
        "#*\n",
        "df_start_station.groupby(['start station id'])['start station id'].agg(['count']).sort_values(by=['count'], ascending=False).head()"
      ],
      "execution_count": 15,
      "outputs": [
        {
          "output_type": "execute_result",
          "data": {
            "text/html": [
              "<div>\n",
              "<style scoped>\n",
              "    .dataframe tbody tr th:only-of-type {\n",
              "        vertical-align: middle;\n",
              "    }\n",
              "\n",
              "    .dataframe tbody tr th {\n",
              "        vertical-align: top;\n",
              "    }\n",
              "\n",
              "    .dataframe thead th {\n",
              "        text-align: right;\n",
              "    }\n",
              "</style>\n",
              "<table border=\"1\" class=\"dataframe\">\n",
              "  <thead>\n",
              "    <tr style=\"text-align: right;\">\n",
              "      <th></th>\n",
              "      <th>count</th>\n",
              "    </tr>\n",
              "    <tr>\n",
              "      <th>start station id</th>\n",
              "      <th></th>\n",
              "    </tr>\n",
              "  </thead>\n",
              "  <tbody>\n",
              "    <tr>\n",
              "      <th>519.0</th>\n",
              "      <td>2823</td>\n",
              "    </tr>\n",
              "    <tr>\n",
              "      <th>402.0</th>\n",
              "      <td>2368</td>\n",
              "    </tr>\n",
              "    <tr>\n",
              "      <th>426.0</th>\n",
              "      <td>2217</td>\n",
              "    </tr>\n",
              "    <tr>\n",
              "      <th>459.0</th>\n",
              "      <td>2103</td>\n",
              "    </tr>\n",
              "    <tr>\n",
              "      <th>477.0</th>\n",
              "      <td>1994</td>\n",
              "    </tr>\n",
              "  </tbody>\n",
              "</table>\n",
              "</div>"
            ],
            "text/plain": [
              "                  count\n",
              "start station id       \n",
              "519.0              2823\n",
              "402.0              2368\n",
              "426.0              2217\n",
              "459.0              2103\n",
              "477.0              1994"
            ]
          },
          "metadata": {
            "tags": []
          },
          "execution_count": 15
        }
      ]
    },
    {
      "cell_type": "code",
      "metadata": {
        "id": "cNBWS7o8hfPo",
        "colab_type": "code",
        "colab": {}
      },
      "source": [
        "#*\n",
        "df['end_hour'] = df['stoptime'].apply(lambda x: datetime.datetime.fromtimestamp(\n",
        "            time.mktime(datetime.datetime.strptime(x.strip(), \"%Y-%m-%d %H:%M:%S.%f\").timetuple())).hour)\n",
        "df['start_hour'] = df['starttime'].apply(lambda x: datetime.datetime.fromtimestamp(\n",
        "                                        time.mktime(datetime.datetime.strptime(x.strip(), \"%Y-%m-%d %H:%M:%S.%f\").timetuple())).hour)\n",
        "df[(df.start_hour.isin([18, 19, 20]))]['start station id'].value_counts().head()"
      ],
      "execution_count": null,
      "outputs": []
    },
    {
      "cell_type": "markdown",
      "metadata": {
        "id": "eHq9pI0dLFoM",
        "colab_type": "text"
      },
      "source": [
        "# Выберите идентификаторы станций(end station id), в которые приезжают с 6 до 10 утра включительно"
      ]
    },
    {
      "cell_type": "code",
      "metadata": {
        "id": "2xAw_IUZLIMo",
        "colab_type": "code",
        "colab": {}
      },
      "source": [
        "from datetime import datetime, time\n",
        "\n",
        "time_from = time(6, 00)\n",
        "time_till = time(10, 00)\n",
        "\n",
        "df['endtime_time'] = df.apply(lambda x: \n",
        "          datetime.strptime(x['starttime'],'%Y-%m-%d %H:%M:%S.%f').time()\n",
        "          ,axis=1)\n",
        "\n",
        "df_end_station = df[(df['endtime_time']>=time_from) & (df['endtime_time']<=time_till)]\n"
      ],
      "execution_count": 16,
      "outputs": []
    },
    {
      "cell_type": "code",
      "metadata": {
        "id": "B9Za2WCCL7ZH",
        "colab_type": "code",
        "colab": {
          "base_uri": "https://localhost:8080/",
          "height": 34
        },
        "outputId": "b05c47cf-9489-4b8b-8075-77315b7b50fd"
      },
      "source": [
        "values = [369, 3106, 3116, 3140]\n",
        "df_end_station[df_end_station['end station id'].isin(values)]['end station id'].unique()"
      ],
      "execution_count": 17,
      "outputs": [
        {
          "output_type": "execute_result",
          "data": {
            "text/plain": [
              "array([3116., 3140.,  369., 3106.])"
            ]
          },
          "metadata": {
            "tags": []
          },
          "execution_count": 17
        }
      ]
    },
    {
      "cell_type": "code",
      "metadata": {
        "id": "b_hHFgR6iKgQ",
        "colab_type": "code",
        "colab": {}
      },
      "source": [
        "#*\n",
        "end_stations = [3140, 3106, 3116, 369]\n",
        "citybike[(citybike.end_hour.isin([6,7,8,9,10])) &\n",
        "         (citybike['end station id'].isin(end_stations))]['end station id'].unique()"
      ],
      "execution_count": null,
      "outputs": []
    }
  ]
}